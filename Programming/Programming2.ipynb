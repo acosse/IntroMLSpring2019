{
 "cells": [
  {
   "cell_type": "markdown",
   "metadata": {},
   "source": [
    "## Programming 2: Additional exercises"
   ]
  },
  {
   "cell_type": "markdown",
   "metadata": {},
   "source": [
    "__Exercise 1. Two Layers neural networks__ \n",
    "\n",
    "Before using built in functions from Keras and TensorFlow, we will build and train a simple neural network in order to get some intuition on its principles. Use the lines below to create a concentric dataset. Then plot your dataset and color the points according to their classes."
   ]
  },
  {
   "cell_type": "code",
   "execution_count": null,
   "metadata": {
    "collapsed": true
   },
   "outputs": [],
   "source": [
    "from sklearn.datasets import make_moons, make_circles\n",
    "\n",
    "X, y = make_circles(noise=0.2, factor=0.5, random_state=1)\n",
    "\n",
    "    "
   ]
  },
  {
   "cell_type": "markdown",
   "metadata": {},
   "source": [
    "We will use the following simple $2$ layers architecture \n",
    "\n",
    "\n",
    "$$ y = \\sigma(W_2 \\sigma(W_1x + b_1) + b_1)$$\n",
    "\n",
    "where we take $\\sigma(x)$ to be the sigmoid \n",
    "\n",
    "$$\\sigma(x) = \\frac{1}{1+e^{-x}}$$\n",
    "\n",
    "__1.1.__ Complete the snippet below"
   ]
  },
  {
   "cell_type": "code",
   "execution_count": null,
   "metadata": {
    "collapsed": true
   },
   "outputs": [],
   "source": [
    "# scale units\n",
    "X = X/np.amax(X, axis=0) # maximum of X array\n",
    "y = y/100 # max test score is 100\n",
    "\n",
    "class Neural_Network(object):\n",
    "    \n",
    "  def __init__(self): # as usual in programming, \n",
    "    #parameters\n",
    "    self.inputSize = \n",
    "    self.outputSize = \n",
    "    self.hiddenSize = \n",
    "\n",
    "    # Initialize the weigth matrices W1 and W2\n",
    "    \n",
    "    \n",
    "    \n",
    "  def forwardProp(self, X):\n",
    "    \n",
    "    # complete the function. The function should output a 1/0 label \n",
    "    # (for now we assume that we are in the binary classification framework) \n",
    "    "
   ]
  },
  {
   "cell_type": "markdown",
   "metadata": {},
   "source": [
    "__1.2.__ Use the lines below and apply your network (before training) on some of the points from the 'make_circles ' dataset"
   ]
  },
  {
   "cell_type": "code",
   "execution_count": null,
   "metadata": {
    "collapsed": true
   },
   "outputs": [],
   "source": [
    "NN = Neural_Network()\n",
    "\n",
    "#defining our output\n",
    "o = NN.forward(X)\n",
    "\n",
    "print \"Predicted Output: \\n\" + str(o)\n",
    "print \"Actual Output: \\n\" + str(y)"
   ]
  },
  {
   "cell_type": "markdown",
   "metadata": {},
   "source": [
    "__1.3.__ We would like to add, inside your class, a function which does the backprop. This second function should not output anything but it should update the weights, i.e. self.W1 and self.W2 . This function takes as input the data stored in X, the associated targets stored in y and the output to the network stored in yhat"
   ]
  },
  {
   "cell_type": "code",
   "execution_count": null,
   "metadata": {
    "collapsed": true
   },
   "outputs": [],
   "source": [
    "def backProp(self, X, y, yhat):\n",
    "    \n",
    "    \n",
    "    # put your code here. Start by defining the error: predicted - target. \n",
    "    # Then apply the backpropagation steps and update the weights \n",
    "    "
   ]
  },
  {
   "cell_type": "markdown",
   "metadata": {},
   "source": [
    "Now split the points from the make_circles dataset into a training and a test part. Train your network on the training part in a loop by definining random minibatches "
   ]
  },
  {
   "cell_type": "markdown",
   "metadata": {},
   "source": [
    "__Exercise 2 Real dataset__\n",
    "\n",
    "\n",
    "Go to Kaggle and download the Movie review dataset: https://www.kaggle.com/c/sentiment-analysis-on-imdb-movie-reviews/data. Use the line below to extract a clear version of the reviews once downloaded"
   ]
  },
  {
   "cell_type": "code",
   "execution_count": null,
   "metadata": {
    "collapsed": true
   },
   "outputs": [],
   "source": [
    "import re\n",
    "import pandas as pd\n",
    " \n",
    "def clean_review(text):\n",
    "    # Strip HTML tags\n",
    "    text = re.sub('<[^<]+?>', ' ', text)\n",
    " \n",
    "    # Strip escaped quotes\n",
    "    text = text.replace('\\\\\"', '')\n",
    " \n",
    "    # Strip quotes\n",
    "    text = text.replace('\"', '')\n",
    " \n",
    "    return text\n",
    " \n",
    "df = pd.read_csv('labeledTrainData.tsv', sep='\\t', quoting=3)\n",
    " \n",
    "# Create a cleaned_review column\n",
    "df['cleaned_review'] = df['review'].apply(clean_review)"
   ]
  },
  {
   "cell_type": "markdown",
   "metadata": {},
   "source": [
    "What does the array df contain? To turn this data into valid feature vectors, we will simply count the number of words appearing in each review and use these numbers as our features. Such representation, known as Bag Of Words (BOW) can be obtained through the 'CountVectorizer' object from the 'feature_extraction' class of scikit-learn.\n",
    "\n",
    "__2.1.__Use the function 'fit' from this object to initialize it with your training data (this will store a list of words against which each text will then be compared). Then use the function 'transform' to turn your data into a BOW model."
   ]
  },
  {
   "cell_type": "code",
   "execution_count": null,
   "metadata": {
    "collapsed": true
   },
   "outputs": [],
   "source": [
    "from sklearn.feature_extraction.text import CountVectorizer\n",
    "\n",
    "\n",
    "\n"
   ]
  },
  {
   "cell_type": "markdown",
   "metadata": {},
   "source": [
    "__2.2.__ Now use the MLP class from scikit learn with a 100 hidden unit layer to classify your test data."
   ]
  },
  {
   "cell_type": "code",
   "execution_count": null,
   "metadata": {
    "collapsed": true
   },
   "outputs": [],
   "source": [
    "from sklearn.neural_network import MLPClassifier\n",
    "from sklearn.model_selection import train_test_split\n",
    "\n",
    "\n",
    "\n",
    "# put your code here"
   ]
  }
 ],
 "metadata": {
  "kernelspec": {
   "display_name": "Python 2",
   "language": "python",
   "name": "python2"
  },
  "language_info": {
   "codemirror_mode": {
    "name": "ipython",
    "version": 2
   },
   "file_extension": ".py",
   "mimetype": "text/x-python",
   "name": "python",
   "nbconvert_exporter": "python",
   "pygments_lexer": "ipython2",
   "version": "2.7.13"
  }
 },
 "nbformat": 4,
 "nbformat_minor": 2
}
