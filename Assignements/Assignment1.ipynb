{
 "cells": [
  {
   "cell_type": "markdown",
   "metadata": {},
   "source": [
    "## Assignment 1 (35 pts)\n"
   ]
  },
  {
   "cell_type": "markdown",
   "metadata": {},
   "source": [
    "__Date posted__: Monday March 4\n",
    "\n",
    "__Date due__: Thursday March 14"
   ]
  },
  {
   "cell_type": "markdown",
   "metadata": {},
   "source": [
    "In this assignement we will review the concepts that we have learned so far in class. This includes \n",
    "\n",
    "- Linear regression and regularization\n",
    "- Linear classification\n",
    "- Kernel methods\n",
    "\n",
    "In the first exercise, we will also cover some important ideas from optimization that will pave the way for the lecture on neural networks"
   ]
  },
  {
   "cell_type": "markdown",
   "metadata": {},
   "source": [
    "### Exercise 1 : A walk through the energy landscape (7pts)\n",
    "\n",
    "As we have seen in class, except when there are very simple and can be solved explicitely, the parameters of most models in machine learning are set through optimization. As a first exercise, we will consider a simple model. Let us first consider the simple linear regression landscape\n",
    "\n"
   ]
  },
  {
   "cell_type": "markdown",
   "metadata": {},
   "source": [
    "Consider the following function whose plot is given below. You can uncomment the first line to activate interactive 3D plot on jupyter and use the \"plt.ioff()\n",
    "%matplotlib inline\" cell below to turn the interactive mode off\n",
    "\n",
    "$$f(x,y) =  3(1-x)^2 e^{-(x^2) - (y+1)^2}- 10(x/5 - x^3 - y^5)e^{-x^2-y^2}- \\frac{1}{3} e^{-(x+1)^2 - y^2}$$\n"
   ]
  },
  {
   "cell_type": "code",
   "execution_count": null,
   "metadata": {
    "collapsed": true
   },
   "outputs": [],
   "source": [
    "#%matplotlib notebook # use to activate interactive plotting \n",
    "import numpy as np\n",
    "\n",
    "x = np.linspace(-2,2,100)\n",
    "y = np.linspace(-3,3,100)\n",
    "\n",
    "xx, yy = np.meshgrid(x, y, indexing='xy')\n",
    "\n",
    "z = 3*((1-xx)**2) * np.exp(-(xx**2) - (yy+1)**2) \\\n",
    "- 10*(xx/5 - xx**3 - yy**5) * np.exp(-xx**2 - yy**2)- (1/3)* np.exp(-(xx+1)**2 - yy**2)\n",
    "\n",
    "from matplotlib import cm\n",
    "\n",
    "from mpl_toolkits.mplot3d import Axes3D\n",
    "from mpl_toolkits.mplot3d import axes3d    \n",
    "\n",
    "\n",
    "fig = plt.figure()\n",
    "\n",
    "ax = fig.add_subplot(111, projection='3d')\n",
    "ax.plot_surface(xx, yy, z, cmap=cm.viridis,alpha=.4,\n",
    "                       linewidth=0, antialiased=False)\n",
    "\n",
    "\n",
    "\n",
    "plt.show()\n",
    "\n"
   ]
  },
  {
   "cell_type": "code",
   "execution_count": null,
   "metadata": {
    "collapsed": true
   },
   "outputs": [],
   "source": [
    "plt.ioff()\n",
    "%matplotlib inline"
   ]
  },
  {
   "cell_type": "markdown",
   "metadata": {},
   "source": [
    "__Exercise 1.1a. (4pts)__ Code a simple gradient algorithm. Set the parameters as follows\n",
    "\n",
    "- learning rate = step size: 0.1 \n",
    "- Max number of iterations: 20 \n",
    "- Stopping criterion: 0.0001 (Your iterations should stop when your gradient is smaller than the threshold)\n",
    "\n",
    "Then start your algorithm at \n",
    "\n",
    "- (x0 = 0.5, y0 = -0.5)\n",
    "- (x0 = -0.3, y0 = -0.3)\n",
    "\n",
    "And plot the iterations on top of the function (you can use the 3D plotting tools from matplolib or the simpler 'contourf' function from pyplot). What do you see ?\n"
   ]
  },
  {
   "cell_type": "markdown",
   "metadata": {},
   "source": [
    "__Exercise 1.1b.(3pts)__ Now consider the function \n",
    "\n",
    "$$f(x,y) = 0.5*(x^2)+0.25*(y^4)-0.5*(y^2)$$\n",
    "\n",
    "Plot this function using 'contourf' Then use your gradient descent algorithm with the same parameters as in __1.1.a__ and starting from the point (x0 = 1, y0 = 0). What do you observe? Choose any other initialization of the form $(x0, 0)$, same question? Explain this phenomenon ?\n",
    "\n"
   ]
  },
  {
   "cell_type": "markdown",
   "metadata": {},
   "source": [
    "### Exercise 2 (10 pts): Learning from the earth. \n",
    "\n",
    "We want to use your gradient descent algorithm to learn a regression model. Download the temperature data from Berkeley Earth (start with the \"All land monthly data\" \"http://berkeleyearth.lbl.gov/auto/Global/Complete_TAVG_summary.txt\"). Save the corresponding text file in the folder of your notebook and use the lines below (Alternatively, you can just fork the whole repository on github). \n",
    "\n",
    "__Exercise 2a (3 pts)__: Use the snippet below to get the years and the temperatures stored as anomalies with respect to the average temperature (Celsius) of 8.64 +/- 0.10. Then use your gradient descent algorithm to learn a linear regression model of the form $ T(x) = \\beta_0 + \\beta_1 x$ where $x$ encodes the year and and $T(x)$ the temperature (anomalies). Plot your regression model on top of the data. \n",
    "    "
   ]
  },
  {
   "cell_type": "code",
   "execution_count": null,
   "metadata": {
    "collapsed": true
   },
   "outputs": [],
   "source": [
    "import numpy as np\n",
    "import pandas as pd\n",
    "\n",
    "import matplotlib.pyplot as plt\n",
    "\n",
    "\n",
    "data = pd.read_csv(\"Complete_TAVG_summary.txt\", comment=\"%\")\n",
    "\n",
    "\n",
    "year = np.zeros((data.shape[0],1))\n",
    "temp = np.zeros((data.shape[0],1))\n",
    "\n",
    "\n",
    "for k in range(0, data.shape[0]):\n",
    "    \n",
    "    tmp = data.values[k]\n",
    "    tmp = tmp[0]\n",
    "    tmp = tmp.split()\n",
    "    tmp = map(float, tmp)\n",
    "    \n",
    "    year[k] = tmp[0]\n",
    "    temp[k] = tmp[1]\n",
    "    \n",
    "\n",
    "plt.figure()\n",
    "plt.subplot(211)\n",
    "plt.scatter(year, temp, s=20)\n",
    "\n",
    "plt.show()\n",
    "\n",
    "   "
   ]
  },
  {
   "cell_type": "markdown",
   "metadata": {},
   "source": [
    "__Exercise 2b (3 pts)__: Repeat the experiments with the dataset from Sierra Leone (http://berkeleyearth.lbl.gov/auto/Regional/TAVG/Text/sierra-leone-TAVG-Trend.txt). Use the annual anomaly. Start in 1873 to avoid the Nan and average over the months."
   ]
  },
  {
   "cell_type": "markdown",
   "metadata": {},
   "source": [
    "__Exercise 2c (4 pts)__: For both datasets, use the function pipeline from scikitlearn (see the documentation if you are unsure how to use it) and learn a regression model on monomials up to degree 4. (In this exercise you can use the LinearRegression function from Scikit-learn)"
   ]
  },
  {
   "cell_type": "markdown",
   "metadata": {},
   "source": [
    "### Exercise 3 (18pts):  Efficient face recognition with kernels\n",
    "In this third exercise, we will use the olivetti face dataset (this dataset can be loaded via scikit learn using the snippet below). "
   ]
  },
  {
   "cell_type": "code",
   "execution_count": 3,
   "metadata": {
    "collapsed": true
   },
   "outputs": [],
   "source": [
    "from sklearn.datasets import fetch_olivetti_faces\n",
    "data = fetch_olivetti_faces()\n",
    "targets = data.target\n",
    "\n",
    "data = data.images.reshape((len(data.images), -1))"
   ]
  },
  {
   "cell_type": "markdown",
   "metadata": {},
   "source": [
    "The data set consists of 400 faces of size 64x64 pixels which are stored in the numpy array \"data\" of size $60$ x $64^2$. To display an image, you then have to reshape the rows of the array \"data\" into a 64x64 matrix. Consider the example below. "
   ]
  },
  {
   "cell_type": "code",
   "execution_count": 5,
   "metadata": {},
   "outputs": [
    {
     "name": "stdout",
     "output_type": "stream",
     "text": [
      "(400, 4096)\n"
     ]
    },
    {
     "data": {
      "image/png": "[encoded data removed]",
      "text/plain": [
       "<Figure size 432x288 with 1 Axes>"
      ]
     },
     "metadata": {},
     "output_type": "display_data"
    }
   ],
   "source": [
    "import numpy as np\n",
    "import matplotlib.pyplot as plt\n",
    "\n",
    "print(np.shape(data)) # size of image matrix\n",
    "\n",
    "image1 = data[1,:].reshape((64,64))\n",
    "\n",
    "fig, ax = plt.subplots()\n",
    "ax.imshow(image1, cmap='gray') \n",
    "\n",
    "plt.show()\n"
   ]
  },
  {
   "cell_type": "markdown",
   "metadata": {},
   "source": [
    "__Exercise 3a (2pts).__ The images are stored as rows of the 'data' matrix. To each row corresponds a label which represents a given ID (person) and which is stored in the vector 'targets'. In other words, the $i^{th}$ row of the matrix data is the picture of the personne represented by the ID given by targets[i]. Plots 5 faces from the same person. (use the subplot function from pyplot)"
   ]
  },
  {
   "cell_type": "markdown",
   "metadata": {},
   "source": [
    "__Exercise 3b (1pts)__ Now that you can display the faces, we want to learn a classifier that will automatically label new pictures. \n",
    "\n",
    " - Start by set of images at random between a training and a test set. (Keep 10% of the images as test set). Split the 'targets' vector accordingly to keep the ID associated to your images.\n",
    "\n"
   ]
  },
  {
   "cell_type": "markdown",
   "metadata": {
    "collapsed": true
   },
   "source": [
    "__Exercise 3c (2pts)__\n",
    "- The images are big (much bigger than the actual number of training samples) so we will work with a kernel. To define the classifier we will use the exponential kernel \n",
    "\n",
    "$$K(x,x') = \\exp\\left(-\\frac{\\|x-x'\\|^2}{\\sigma^2}\\right)$$\n",
    "\n",
    "Computing the $T$ by $T$ matrix of this kernel for your training images. \n"
   ]
  },
  {
   "cell_type": "code",
   "execution_count": 129,
   "metadata": {},
   "outputs": [
    {
     "name": "stdout",
     "output_type": "stream",
     "text": [
      "(400, 400)\n"
     ]
    }
   ],
   "source": [
    "innerProd = np.dot(data,data.T)\n",
    "\n",
    "print(np.shape(mat))"
   ]
  },
  {
   "cell_type": "markdown",
   "metadata": {},
   "source": [
    "__Exercise 3d (4pts)__\n",
    "\n",
    "We would like to get an intuition of the data. However as we only kept the kernel, we now only have access to similarities between the images and we can therefore not \"represent\" our points directly anymore. For a given similarity matrix $K(x,x')$, it is however possible to obtain a representation of the data on a 2D or 3D space which preserves similarity (i.e if the images are close, then the 2D or 3D points will also be close) as follows:\n",
    "\n",
    "- Take the eigendecomposition of the Kernel matrix (this will give you the eigenvalues $\\lambda_i$ (sorted in descending order) and the corresponding eigenvectors $\\boldsymbol v_i$)\n",
    "\n",
    "- Take the first 2 or 3 eigenvectors (depending on whether you want a 2D or 3D representation of your data)\n",
    "\n",
    "- The coordinates of the points (lets say $x_k$) in your 2D or 3D representation are given by $x_k = (v_1(k), v_2(k))$ (2D) or $x_k = (v_1(k), v_2(k), v_3(k))$ (3D) where $v_i(k)$ is the $k^{th}$ coordinate of the $i^{th}$ eigenvector. \n",
    "\n",
    "Use this approach to get 2D and 3D representation of your dataset. Plot it with 'scatter' from pyplot and use the numbers in the 'targets' vector to color your points so that different colors corresponds to different ID/persons."
   ]
  },
  {
   "cell_type": "code",
   "execution_count": null,
   "metadata": {},
   "outputs": [],
   "source": [
    "# put your code here\n",
    "\n"
   ]
  },
  {
   "cell_type": "markdown",
   "metadata": {
    "collapsed": true
   },
   "source": [
    "How does the image dataset look like on this lower dimensional representations?\n",
    "\n",
    "__Exercise 3d (Bonus, +2pts)__ In your opinion, how many eigenvectors are need to represent most of the information from your data?\n"
   ]
  },
  {
   "cell_type": "markdown",
   "metadata": {},
   "source": [
    "__Exercise 3e (9pts)__\n",
    "\n",
    "We will now learn a linear classifier.\n",
    "\n",
    "- start by generating the binary vectors of labels. (turn the vector of targets in a matrix containing binary vectors representing each class)\n",
    "\n",
    "- We want to learn a classifier in feature space without computing the feature vectors $\\phi(x)$\n",
    "\n",
    "- Recall that the general formulation of a linear classifier in feature space reads as \n",
    "\n",
    "$$\\min_{\\boldsymbol \\beta} J(\\boldsymbol \\beta)  = \\min_{\\boldsymbol \\beta} \\frac{1}{2}\\sum_{n=1}^N \\left\\{\\boldsymbol \\beta^T \\phi(\\boldsymbol x_n) - t_n \\right\\}^2 + \\frac{\\lambda}{2}\\boldsymbol \\beta^T\\boldsymbol\\beta, \\quad (1)$$\n",
    "\n",
    "Where $\\boldsymbol \\beta$ is the vector of parameters. \n",
    "\n",
    "- __1.__ Compute the derivative with respect to $\\boldsymbol \\beta$ and set it to zero to find the expression for $\\boldsymbol \\beta$. \n",
    "- __2.__ Write this expression for $\\boldsymbol \\beta$ as $\\boldsymbol \\beta = \\boldsymbol \\Phi \\boldsymbol a$ where $\\boldsymbol \\Phi$ is the matrix whose $n^{th}$ row is given by the feature vector $\\phi(\\boldsymbol x_n)$ and give the corresponding expression of the vector $\\boldsymbol a$.\n",
    "- __3.__ Substitute the expression of $\\boldsymbol \\beta$ (i.e $\\boldsymbol \\beta = \\boldsymbol \\Phi \\boldsymbol a$) into $(1)$ You should get a new objective $J(\\boldsymbol a)$ which is now a function of $\\boldsymbol a$ and of $\\boldsymbol \\Phi \\boldsymbol \\Phi^T$.\n",
    "\n",
    "- __4__ Replace $\\boldsymbol \\Phi \\boldsymbol \\Phi^T$ with the kernel, i.e. $\\boldsymbol \\Phi \\boldsymbol \\Phi^T = K$ where $K$ is the matrix we used above \n",
    "\n",
    "$$K(i,j) = \\exp(-\\frac{\\|\\text{Image}_i -\\text{Image}_j\\|^2}{\\sigma^2})$$\n",
    "\n",
    "- __5__ To compute the classifier, use each of the following approaches (give the math details for the first two approaches)\n",
    "        \n",
    "  - Set the derivative of $J(\\boldsymbol a)$ to zero (using matrix derivatives) and      solve for $\\boldsymbol a$\n",
    "        \n",
    "  - Use your expression for $\\boldsymbol a$ (derived in step 2) and substitute the expression for $\\boldsymbol \\beta = \\boldsymbol\\Phi \\boldsymbol a$, then solve for $\\boldsymbol a$\n",
    "        \n",
    "  - Finally modify your gradient descent algorithm to find the minimum of $J(\\boldsymbol a)$ (How does the landscape look like in this case?)\n",
    "        \n",
    "       "
   ]
  },
  {
   "cell_type": "code",
   "execution_count": null,
   "metadata": {
    "collapsed": true
   },
   "outputs": [],
   "source": [
    "# put the gradient descent code here\n",
    "\n",
    "\n"
   ]
  },
  {
   "cell_type": "markdown",
   "metadata": {},
   "source": [
    "The expression of your classifier can also be written with the Kernel matrix by starting from the classifier defined on the feature vector $\\phi(x)$ and $\\beta$ ans substituting for $\\boldsymbol \\beta = \\boldsymbol \\Phi \\boldsymbol a$ i.e.\n",
    "\n",
    "$$ y(x) = \\boldsymbol \\beta^T \\boldsymbol\\phi(\\boldsymbol x) =\\boldsymbol a^T \\boldsymbol \\Phi\\boldsymbol\\phi(\\boldsymbol x) = \\sum_{n\\in \\text{training}} a_n K(x_n, x)$$\n",
    "\n",
    "For any image from the test set, define the name of the person as the one corresponding to the largest entry in $y(x)$. Let $\\hat{n}_i$ be the predicted name, and $n_i$ be the true name (i.e the number stored in 'targets'). Compute the error as \n",
    "\n",
    "$$\\text{error} = \\frac{\\text{number of test images with $\\hat{n}_i\\neq n_i$}}{\\text{Total number of test images}}$$\n"
   ]
  },
  {
   "cell_type": "code",
   "execution_count": null,
   "metadata": {
    "collapsed": true
   },
   "outputs": [],
   "source": [
    "# put your code here\n",
    "\n"
   ]
  }
 ],
 "metadata": {
  "kernelspec": {
   "display_name": "Python 2",
   "language": "python",
   "name": "python2"
  },
  "language_info": {
   "codemirror_mode": {
    "name": "ipython",
    "version": 2
   },
   "file_extension": ".py",
   "mimetype": "text/x-python",
   "name": "python",
   "nbconvert_exporter": "python",
   "pygments_lexer": "ipython2",
   "version": "2.7.13"
  }
 },
 "nbformat": 4,
 "nbformat_minor": 2
}
